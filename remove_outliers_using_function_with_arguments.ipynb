{
 "cells": [
  {
   "cell_type": "code",
   "execution_count": 77,
   "metadata": {},
   "outputs": [
    {
     "data": {
      "text/plain": [
       "(13200, 7)"
      ]
     },
     "execution_count": 77,
     "metadata": {},
     "output_type": "execute_result"
    }
   ],
   "source": [
    "import pandas as pd\n",
    "import numpy as np \n",
    "# check total number of rows\n",
    "df = pd.read_csv(\"bhp.csv\")\n",
    "df.shape"
   ]
  },
  {
   "cell_type": "code",
   "execution_count": 83,
   "metadata": {},
   "outputs": [
    {
     "data": {
      "text/plain": [
       "(                       location       size  total_sqft  bath   price  bhk  \\\n",
       " 0      Electronic City Phase II      2 BHK      1056.0   2.0   39.07    2   \n",
       " 1              Chikka Tirupathi  4 Bedroom      2600.0   5.0  120.00    4   \n",
       " 2                   Uttarahalli      3 BHK      1440.0   2.0   62.00    3   \n",
       " 3            Lingadheeranahalli      3 BHK      1521.0   3.0   95.00    3   \n",
       " 4                      Kothanur      2 BHK      1200.0   2.0   51.00    2   \n",
       " ...                         ...        ...         ...   ...     ...  ...   \n",
       " 13195                Whitefield  5 Bedroom      3453.0   4.0  231.00    5   \n",
       " 13196                     other      4 BHK      3600.0   5.0  400.00    4   \n",
       " 13197     Raja Rajeshwari Nagar      2 BHK      1141.0   2.0   60.00    2   \n",
       " 13198           Padmanabhanagar      4 BHK      4689.0   4.0  488.00    4   \n",
       " 13199              Doddathoguru      1 BHK       550.0   1.0   17.00    1   \n",
       " \n",
       "        price_per_sqft   z_score  \n",
       " 0                3699 -0.039553  \n",
       " 1                4615 -0.030970  \n",
       " 2                4305 -0.033875  \n",
       " 3                6245 -0.015697  \n",
       " 4                4250 -0.034390  \n",
       " ...               ...       ...  \n",
       " 13195            6689 -0.011537  \n",
       " 13196           11111  0.029896  \n",
       " 13197            5258 -0.024945  \n",
       " 13198           10407  0.023299  \n",
       " 13199            3090 -0.045259  \n",
       " \n",
       " [13195 rows x 8 columns],\n",
       " (13195, 8))"
      ]
     },
     "execution_count": 83,
     "metadata": {},
     "output_type": "execute_result"
    }
   ],
   "source": [
    "import pandas as pd\n",
    "import numpy as np \n",
    "\n",
    "df = pd.read_csv(\"bhp.csv\")\n",
    "def fun_outliers(dataset, col):\n",
    "    # we finding outliers in price_per_sqft column\n",
    "    #df.col.describe()\n",
    "    # we find outliers using z-score formula to find z-score = (value - mean)/standard deviation\n",
    "\n",
    "    dataset['z_score'] = (dataset[col] - dataset[col].mean()) / dataset[col].std()\n",
    "\n",
    "    # we are using 3 standard deviation\n",
    "    # sample if you want to see outliers then run this statement\n",
    "    #print(df[df['col_zscore']>3])\n",
    "    #remove outliers from your dataset\n",
    "    dataset = dataset[(dataset.z_score>-3)&(dataset.z_score<3)]\n",
    "    return dataset,dataset.shape\n",
    "fun_outliers(df,'price_per_sqft' )\n"
   ]
  },
  {
   "cell_type": "code",
   "execution_count": null,
   "metadata": {},
   "outputs": [],
   "source": []
  }
 ],
 "metadata": {
  "kernelspec": {
   "display_name": "Python 3",
   "language": "python",
   "name": "python3"
  },
  "language_info": {
   "codemirror_mode": {
    "name": "ipython",
    "version": 3
   },
   "file_extension": ".py",
   "mimetype": "text/x-python",
   "name": "python",
   "nbconvert_exporter": "python",
   "pygments_lexer": "ipython3",
   "version": "3.7.6"
  }
 },
 "nbformat": 4,
 "nbformat_minor": 4
}
